{
  "nbformat": 4,
  "nbformat_minor": 0,
  "metadata": {
    "colab": {
      "name": "MergeSort_with_LinkedList.ipynb",
      "provenance": [],
      "collapsed_sections": [],
      "authorship_tag": "ABX9TyNtAa/M4xC3e3aii4Nlxilr",
      "include_colab_link": true
    },
    "kernelspec": {
      "name": "python3",
      "display_name": "Python 3"
    },
    "language_info": {
      "name": "python"
    }
  },
  "cells": [
    {
      "cell_type": "markdown",
      "metadata": {
        "id": "view-in-github",
        "colab_type": "text"
      },
      "source": [
        "<a href=\"https://colab.research.google.com/github/muhammad-mobeen/Merge-Sort-for-LinkedList/blob/main/MergeSort_with_LinkedList.ipynb\" target=\"_parent\"><img src=\"https://colab.research.google.com/assets/colab-badge.svg\" alt=\"Open In Colab\"/></a>"
      ]
    },
    {
      "cell_type": "code",
      "source": [
        "import time\n",
        "from random import randint"
      ],
      "metadata": {
        "id": "6_c7_K7TkNpx"
      },
      "execution_count": 79,
      "outputs": []
    },
    {
      "cell_type": "code",
      "execution_count": 32,
      "metadata": {
        "id": "7gQ6ToR3MQYD"
      },
      "outputs": [],
      "source": [
        "class Node:\n",
        "  def __init__(self, data):\n",
        "    self.data = data\n",
        "    self.next = None"
      ]
    },
    {
      "cell_type": "code",
      "source": [
        "class LinkedList:\n",
        "  def __init__(self):\n",
        "    self.head = None\n",
        "    self.tail = None\n",
        "\n",
        "  def size(self):  #Returns number of nodes. Note: Counting starts from 1.\n",
        "    temp = self.head\n",
        "    i = 1\n",
        "    while not (temp.next == None):\n",
        "      temp = temp.next\n",
        "      i += 1\n",
        "    return i\n",
        "\n",
        "  def show(self):  #Print whole Linked List along with it's index number\n",
        "    temp = self.head\n",
        "    i = 0\n",
        "    print(\"\")\n",
        "    while True:  #Performs While-do functions\n",
        "      if temp.next == None:\n",
        "        print(\"node#{} {}\".format(i, temp.data))\n",
        "        break\n",
        "      else:\n",
        "        print(\"node#{} {}\".format(i, temp.data))\n",
        "        temp = temp.next\n",
        "        i += 1\n",
        "    print(\"\")\n",
        "\n",
        "  def push(self, data):  #Pushes new nodes from Head side\n",
        "    new_node = Node(data)\n",
        "    if self.head == None:\n",
        "      self.head = new_node\n",
        "      self.tail = new_node\n",
        "    else:\n",
        "      new_node.next = self.head\n",
        "      self.head = new_node\n",
        "\n",
        "  def append(self, data):  #Appends new nodes from Tail side\n",
        "    new_node = Node(data)\n",
        "    temp = self.head\n",
        "    if self.head == None:\n",
        "      self.head = new_node\n",
        "      self.tail = new_node\n",
        "    else:\n",
        "      while(temp):\n",
        "        if temp.next == None:\n",
        "          temp.next = new_node\n",
        "          self.tail = new_node\n",
        "          break\n",
        "        temp = temp.next\n",
        "  \n",
        "  def appendAfter(self, node, data):  #Appends after a specific node/index number\n",
        "    new_node = Node(data)\n",
        "    temp = self.head\n",
        "    i = 0\n",
        "    while True:\n",
        "      if i == node:\n",
        "        new_node.next = temp.next\n",
        "        temp.next = new_node\n",
        "        if new_node.next == None:\n",
        "          self.tail = new_node\n",
        "        break\n",
        "      else:\n",
        "        temp = temp.next\n",
        "        i += 1\n",
        "\n",
        "  #If an argument is passed then this functions pops out the specific position\n",
        "  #Otherwise it removes the most recent node (tail node) by default\n",
        "  def pop(self, position = None):\n",
        "    if position is None:\n",
        "      position = self.size()-1\n",
        "    temp = self.head\n",
        "    i = 0\n",
        "    while True:\n",
        "      if i+1 == position:\n",
        "        temp.next = temp.next.next\n",
        "        if temp.next is None:\n",
        "          self.tail = temp\n",
        "        break\n",
        "      else:\n",
        "        i += 1\n",
        "        temp = temp.next\n",
        "\n",
        "  def popLeft(self):  #Pops out the node from Head side\n",
        "    self.head = self.head.next"
      ],
      "metadata": {
        "id": "aNRj_f7UNV9j"
      },
      "execution_count": 33,
      "outputs": []
    },
    {
      "cell_type": "code",
      "source": [
        "class MergeSort:\n",
        "  def __init__(self, llist):\n",
        "    llist.head = self.mergeSort(llist.head)\n",
        "    return None\n",
        "  \n",
        "  def getMiddle(self, head):\n",
        "    if head is None:\n",
        "      return head\n",
        "    slow = head\n",
        "    fast = head\n",
        "    while fast.next is not None and fast.next.next is not None:\n",
        "      slow = slow.next\n",
        "      fast = fast.next.next\n",
        "    return slow\n",
        "\n",
        "\n",
        "  def sortedMerge(self, a, b):\n",
        "    #Base Case\n",
        "    if a is None:\n",
        "      return b\n",
        "    if b is None:\n",
        "      return a\n",
        "\n",
        "    result = None\n",
        "\n",
        "    if a.data <= b.data:\n",
        "      result = a\n",
        "      result.next = self.sortedMerge(a.next, b)\n",
        "    else:\n",
        "      result = b\n",
        "      result.next = self.sortedMerge(a, b.next)\n",
        "    return result\n",
        "\n",
        "\n",
        "  def mergeSort(self, h):\n",
        "    if h is None or h.next is None:\n",
        "      return h\n",
        "    \n",
        "    middle = self.getMiddle(h)\n",
        "    nextomiddle = middle.next\n",
        "\n",
        "    middle.next = None\n",
        "\n",
        "    left = self.mergeSort(h)\n",
        "    right = self.mergeSort(nextomiddle)\n",
        "\n",
        "    sortedlist = self.sortedMerge(left, right)\n",
        "    return sortedlist"
      ],
      "metadata": {
        "id": "QoKIMpIWNWem"
      },
      "execution_count": 34,
      "outputs": []
    },
    {
      "cell_type": "code",
      "source": [
        "li = LinkedList()\n",
        "li.append(15)\n",
        "li.append(10)\n",
        "li.append(5)\n",
        "li.append(20)\n",
        "li.append(3)\n",
        "li.append(2)"
      ],
      "metadata": {
        "id": "awIARPTobJTt"
      },
      "execution_count": 39,
      "outputs": []
    },
    {
      "cell_type": "code",
      "source": [
        "li = LinkedList()\n",
        "for i in range(800):\n",
        "  li.append(randint(0, 1000))"
      ],
      "metadata": {
        "id": "OlbjGpObxMal"
      },
      "execution_count": 150,
      "outputs": []
    },
    {
      "cell_type": "code",
      "source": [
        "start = time.time_ns()\n",
        "MergeSort(li)\n",
        "end = time.time_ns()\n",
        "print(\"Time Taken for Merge Sorting: {} milliseconds\".format((end-start)/1000000))"
      ],
      "metadata": {
        "colab": {
          "base_uri": "https://localhost:8080/"
        },
        "id": "Oo5ASUqabm1_",
        "outputId": "c696c0f2-9bcd-4710-c6b7-083da0fe8c9b"
      },
      "execution_count": 155,
      "outputs": [
        {
          "output_type": "stream",
          "name": "stdout",
          "text": [
            "Time Taken for Merge Sorting: 5.642137 milliseconds\n"
          ]
        }
      ]
    },
    {
      "cell_type": "code",
      "source": [
        "li.show()"
      ],
      "metadata": {
        "id": "HD-8mSgBbegg"
      },
      "execution_count": null,
      "outputs": []
    }
  ]
}